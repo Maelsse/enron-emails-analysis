{
 "cells": [
  {
   "cell_type": "markdown",
   "id": "d828a66d",
   "metadata": {},
   "source": [
    "# IMPORT DEPENDENCIES"
   ]
  },
  {
   "cell_type": "code",
   "execution_count": 1,
   "id": "5dd45a04",
   "metadata": {},
   "outputs": [],
   "source": [
    "import numpy as np # for data handling\n",
    "import matplotlib.pyplot as plt # for visualisations\n",
    "import email # for handling email data format\n",
    "import os # for converting folders to dataframe\n",
    "from tqdm import tqdm # for examining loops\n",
    "import pandas as pd # for handling and generating dataframes"
   ]
  },
  {
   "cell_type": "markdown",
   "id": "3ef33080",
   "metadata": {},
   "source": [
    "using the downloaded  version from Dataset: https://www.cs.cmu.edu/~enron/ we then utilize the following code to get the csv data needed for our project "
   ]
  },
  {
   "cell_type": "markdown",
   "id": "c087c5d5",
   "metadata": {},
   "source": [
    "###  code credits:\n",
    "***************************************************************************************\n",
    "*    Title: Enron-Email-Analysis.git\n",
    "*    Author: Mihir Gandhi\n",
    "*    Date: 2020\n",
    "*    Code version: Copyright (c) 2020 Mihir Gandhi\n",
    "*    Availability: https://github.com/mihir-m-gandhi/Enron-Email-Analysis.git"
   ]
  },
  {
   "cell_type": "code",
   "execution_count": 2,
   "id": "ffff4d95",
   "metadata": {},
   "outputs": [],
   "source": [
    "data = pd.DataFrame(columns = ['Message-ID','Date','From','To','Subject','Path','Origin','FileName','Content']) \n",
    "# All columns that will be extracted from the data"
   ]
  },
  {
   "cell_type": "code",
   "execution_count": 3,
   "id": "9c241663",
   "metadata": {},
   "outputs": [
    {
     "name": "stderr",
     "output_type": "stream",
     "text": [
      "3500it [34:00,  1.72it/s]\n"
     ]
    }
   ],
   "source": [
    "mids = set() # for extracting only unique mails from the data as it very large\n",
    "n = 0 # for limitting the process if it is too slow\n",
    "row = 0 # selecting row of the table\n",
    "lists = [[0 for _ in range(int(2e6))],[0 for _ in range(int(2e6))],[0 for _ in range(int(2e6))],\n",
    "         [0 for _ in range(int(2e6))],[0 for _ in range(int(2e6))],[0 for _ in range(int(2e6))],\n",
    "         [0 for _ in range(int(2e6))],[0 for _ in range(int(2e6))],[0 for _ in range(int(2e6))]]\n",
    "         # data is initially stored as a list of lists. This is done because lists are comparatively faster for in allocation\n",
    "\n",
    "# accessing all files in the root directory of the downloaded folders\n",
    "for path, mid, files in tqdm(os.walk('maildir/')):\n",
    "  n+=1\n",
    "  if n>=400000: # limitting the process if too slow\n",
    "    break\n",
    "  for f in files:\n",
    "    try: # rejecting the file in case of any error\n",
    "      with open(path+'/'+f) as doc: # adding all email fields to the table\n",
    "          e = email.message_from_string(doc.read())\n",
    "          if e.get('Date') not in mids:\n",
    "            mids.add(e.get('Message_ID'))\n",
    "            lists[0][row] = e.get('Message-ID')\n",
    "            lists[1][row] = e.get('Date')\n",
    "            lists[2][row] = e.get('From')\n",
    "            lists[3][row] = e.get('To')\n",
    "            lists[4][row] = e.get('Subject')\n",
    "            lists[5][row] = e.get('X-Folder')\n",
    "            lists[6][row] = e.get('X-Origin')\n",
    "            lists[7][row] = e.get('X-FileName')\n",
    "            lists[8][row] = e.get_payload()\n",
    "            row += 1\n",
    "            mids.add(e.get('Date'))\n",
    "    except:\n",
    "      pass"
   ]
  },
  {
   "cell_type": "code",
   "execution_count": 4,
   "id": "68115966",
   "metadata": {},
   "outputs": [],
   "source": [
    "i = 0 # Creating a pandas dataframe\n",
    "for col in data.columns:\n",
    "  data[col] = lists[i]\n",
    "  i += 1"
   ]
  },
  {
   "cell_type": "code",
   "execution_count": 5,
   "id": "89a812df",
   "metadata": {},
   "outputs": [],
   "source": [
    "data = data[data['Date']!=0] "
   ]
  },
  {
   "cell_type": "code",
   "execution_count": 6,
   "id": "bf0af731",
   "metadata": {},
   "outputs": [
    {
     "data": {
      "text/plain": [
       "(224128, 9)"
      ]
     },
     "execution_count": 6,
     "metadata": {},
     "output_type": "execute_result"
    }
   ],
   "source": [
    "data.shape # verifying the shape of the data"
   ]
  },
  {
   "cell_type": "code",
   "execution_count": 7,
   "id": "fe670627",
   "metadata": {},
   "outputs": [
    {
     "data": {
      "text/html": [
       "<div>\n",
       "<style scoped>\n",
       "    .dataframe tbody tr th:only-of-type {\n",
       "        vertical-align: middle;\n",
       "    }\n",
       "\n",
       "    .dataframe tbody tr th {\n",
       "        vertical-align: top;\n",
       "    }\n",
       "\n",
       "    .dataframe thead th {\n",
       "        text-align: right;\n",
       "    }\n",
       "</style>\n",
       "<table border=\"1\" class=\"dataframe\">\n",
       "  <thead>\n",
       "    <tr style=\"text-align: right;\">\n",
       "      <th></th>\n",
       "      <th>Message-ID</th>\n",
       "      <th>Date</th>\n",
       "      <th>From</th>\n",
       "      <th>To</th>\n",
       "      <th>Subject</th>\n",
       "      <th>Path</th>\n",
       "      <th>Origin</th>\n",
       "      <th>FileName</th>\n",
       "      <th>Content</th>\n",
       "    </tr>\n",
       "  </thead>\n",
       "  <tbody>\n",
       "    <tr>\n",
       "      <th>0</th>\n",
       "      <td>&lt;29790972.1075855665306.JavaMail.evans@thyme&gt;</td>\n",
       "      <td>Wed, 13 Dec 2000 18:41:00 -0800 (PST)</td>\n",
       "      <td>1.11913372.-2@multexinvestornetwork.com</td>\n",
       "      <td>pallen@enron.com</td>\n",
       "      <td>December 14, 2000 - Bear Stearns' predictions ...</td>\n",
       "      <td>\\Phillip_Allen_Dec2000\\Notes Folders\\All docum...</td>\n",
       "      <td>Allen-P</td>\n",
       "      <td>pallen.nsf</td>\n",
       "      <td>In today's Daily Update you'll find free repor...</td>\n",
       "    </tr>\n",
       "    <tr>\n",
       "      <th>1</th>\n",
       "      <td>&lt;21975671.1075855665520.JavaMail.evans@thyme&gt;</td>\n",
       "      <td>Wed, 13 Dec 2000 08:35:00 -0800 (PST)</td>\n",
       "      <td>messenger@ecm.bloomberg.com</td>\n",
       "      <td>None</td>\n",
       "      <td>Bloomberg Power Lines Report</td>\n",
       "      <td>\\Phillip_Allen_Dec2000\\Notes Folders\\All docum...</td>\n",
       "      <td>Allen-P</td>\n",
       "      <td>pallen.nsf</td>\n",
       "      <td>Here is today's copy of Bloomberg Power Lines....</td>\n",
       "    </tr>\n",
       "    <tr>\n",
       "      <th>2</th>\n",
       "      <td>&lt;7452188.1075855667684.JavaMail.evans@thyme&gt;</td>\n",
       "      <td>Mon, 9 Oct 2000 07:16:00 -0700 (PDT)</td>\n",
       "      <td>phillip.allen@enron.com</td>\n",
       "      <td>keith.holst@enron.com</td>\n",
       "      <td>Consolidated positions: Issues &amp; To Do list</td>\n",
       "      <td>\\Phillip_Allen_Dec2000\\Notes Folders\\All docum...</td>\n",
       "      <td>Allen-P</td>\n",
       "      <td>pallen.nsf</td>\n",
       "      <td>---------------------- Forwarded by Phillip K ...</td>\n",
       "    </tr>\n",
       "    <tr>\n",
       "      <th>3</th>\n",
       "      <td>&lt;23790115.1075855667708.JavaMail.evans@thyme&gt;</td>\n",
       "      <td>Mon, 9 Oct 2000 07:00:00 -0700 (PDT)</td>\n",
       "      <td>phillip.allen@enron.com</td>\n",
       "      <td>keith.holst@enron.com</td>\n",
       "      <td>Consolidated positions: Issues &amp; To Do list</td>\n",
       "      <td>\\Phillip_Allen_Dec2000\\Notes Folders\\All docum...</td>\n",
       "      <td>Allen-P</td>\n",
       "      <td>pallen.nsf</td>\n",
       "      <td>---------------------- Forwarded by Phillip K ...</td>\n",
       "    </tr>\n",
       "    <tr>\n",
       "      <th>4</th>\n",
       "      <td>&lt;5860470.1075855667730.JavaMail.evans@thyme&gt;</td>\n",
       "      <td>Thu, 5 Oct 2000 06:26:00 -0700 (PDT)</td>\n",
       "      <td>phillip.allen@enron.com</td>\n",
       "      <td>david.delainey@enron.com</td>\n",
       "      <td></td>\n",
       "      <td>\\Phillip_Allen_Dec2000\\Notes Folders\\All docum...</td>\n",
       "      <td>Allen-P</td>\n",
       "      <td>pallen.nsf</td>\n",
       "      <td>Dave, \\n\\n Here are the names of the west desk...</td>\n",
       "    </tr>\n",
       "  </tbody>\n",
       "</table>\n",
       "</div>"
      ],
      "text/plain": [
       "                                      Message-ID  \\\n",
       "0  <29790972.1075855665306.JavaMail.evans@thyme>   \n",
       "1  <21975671.1075855665520.JavaMail.evans@thyme>   \n",
       "2   <7452188.1075855667684.JavaMail.evans@thyme>   \n",
       "3  <23790115.1075855667708.JavaMail.evans@thyme>   \n",
       "4   <5860470.1075855667730.JavaMail.evans@thyme>   \n",
       "\n",
       "                                    Date  \\\n",
       "0  Wed, 13 Dec 2000 18:41:00 -0800 (PST)   \n",
       "1  Wed, 13 Dec 2000 08:35:00 -0800 (PST)   \n",
       "2   Mon, 9 Oct 2000 07:16:00 -0700 (PDT)   \n",
       "3   Mon, 9 Oct 2000 07:00:00 -0700 (PDT)   \n",
       "4   Thu, 5 Oct 2000 06:26:00 -0700 (PDT)   \n",
       "\n",
       "                                      From                        To  \\\n",
       "0  1.11913372.-2@multexinvestornetwork.com          pallen@enron.com   \n",
       "1              messenger@ecm.bloomberg.com                      None   \n",
       "2                  phillip.allen@enron.com     keith.holst@enron.com   \n",
       "3                  phillip.allen@enron.com     keith.holst@enron.com   \n",
       "4                  phillip.allen@enron.com  david.delainey@enron.com   \n",
       "\n",
       "                                             Subject  \\\n",
       "0  December 14, 2000 - Bear Stearns' predictions ...   \n",
       "1                       Bloomberg Power Lines Report   \n",
       "2        Consolidated positions: Issues & To Do list   \n",
       "3        Consolidated positions: Issues & To Do list   \n",
       "4                                                      \n",
       "\n",
       "                                                Path   Origin    FileName  \\\n",
       "0  \\Phillip_Allen_Dec2000\\Notes Folders\\All docum...  Allen-P  pallen.nsf   \n",
       "1  \\Phillip_Allen_Dec2000\\Notes Folders\\All docum...  Allen-P  pallen.nsf   \n",
       "2  \\Phillip_Allen_Dec2000\\Notes Folders\\All docum...  Allen-P  pallen.nsf   \n",
       "3  \\Phillip_Allen_Dec2000\\Notes Folders\\All docum...  Allen-P  pallen.nsf   \n",
       "4  \\Phillip_Allen_Dec2000\\Notes Folders\\All docum...  Allen-P  pallen.nsf   \n",
       "\n",
       "                                             Content  \n",
       "0  In today's Daily Update you'll find free repor...  \n",
       "1  Here is today's copy of Bloomberg Power Lines....  \n",
       "2  ---------------------- Forwarded by Phillip K ...  \n",
       "3  ---------------------- Forwarded by Phillip K ...  \n",
       "4  Dave, \\n\\n Here are the names of the west desk...  "
      ]
     },
     "execution_count": 7,
     "metadata": {},
     "output_type": "execute_result"
    }
   ],
   "source": [
    "data.head()"
   ]
  },
  {
   "cell_type": "code",
   "execution_count": 16,
   "id": "f4e8aea0",
   "metadata": {},
   "outputs": [],
   "source": [
    "\n",
    "data[\"Date\"]=pd.to_datetime(data.Date) # converting the date field to date time type"
   ]
  },
  {
   "cell_type": "code",
   "execution_count": 9,
   "id": "e905ce27",
   "metadata": {},
   "outputs": [],
   "source": [
    "cl = [0 for i in range(len(data['Content']))] # generating and adding new column for content length\n",
    "for i in range(len(data['Content'])):\n",
    "  cl[i] = len(data['Content'][i])"
   ]
  },
  {
   "cell_type": "code",
   "execution_count": 10,
   "id": "b4d38c23",
   "metadata": {},
   "outputs": [],
   "source": [
    "data['Content Length'] = cl # adding the content length column/"
   ]
  },
  {
   "cell_type": "code",
   "execution_count": 11,
   "id": "cb7c6af4",
   "metadata": {},
   "outputs": [],
   "source": [
    "rees = [0 for i in range(len(data['Subject']))]\n",
    "for i in range(len(data['Subject'])):\n",
    "  if 'Re:' in data['Subject'][i]:\n",
    "    rees[i] = 1"
   ]
  },
  {
   "cell_type": "code",
   "execution_count": 12,
   "id": "8cc43a0d",
   "metadata": {},
   "outputs": [],
   "source": [
    "data['Reply'] = rees"
   ]
  },
  {
   "cell_type": "code",
   "execution_count": 17,
   "id": "e295fc03",
   "metadata": {},
   "outputs": [
    {
     "data": {
      "text/html": [
       "<div>\n",
       "<style scoped>\n",
       "    .dataframe tbody tr th:only-of-type {\n",
       "        vertical-align: middle;\n",
       "    }\n",
       "\n",
       "    .dataframe tbody tr th {\n",
       "        vertical-align: top;\n",
       "    }\n",
       "\n",
       "    .dataframe thead th {\n",
       "        text-align: right;\n",
       "    }\n",
       "</style>\n",
       "<table border=\"1\" class=\"dataframe\">\n",
       "  <thead>\n",
       "    <tr style=\"text-align: right;\">\n",
       "      <th></th>\n",
       "      <th>Message-ID</th>\n",
       "      <th>Date</th>\n",
       "      <th>From</th>\n",
       "      <th>To</th>\n",
       "      <th>Subject</th>\n",
       "      <th>Path</th>\n",
       "      <th>Origin</th>\n",
       "      <th>FileName</th>\n",
       "      <th>Content</th>\n",
       "      <th>Content Length</th>\n",
       "      <th>Reply</th>\n",
       "    </tr>\n",
       "  </thead>\n",
       "  <tbody>\n",
       "    <tr>\n",
       "      <th>0</th>\n",
       "      <td>&lt;29790972.1075855665306.JavaMail.evans@thyme&gt;</td>\n",
       "      <td>2000-12-13 18:41:00-08:00</td>\n",
       "      <td>1.11913372.-2@multexinvestornetwork.com</td>\n",
       "      <td>pallen@enron.com</td>\n",
       "      <td>December 14, 2000 - Bear Stearns' predictions ...</td>\n",
       "      <td>\\Phillip_Allen_Dec2000\\Notes Folders\\All docum...</td>\n",
       "      <td>Allen-P</td>\n",
       "      <td>pallen.nsf</td>\n",
       "      <td>In today's Daily Update you'll find free repor...</td>\n",
       "      <td>8486</td>\n",
       "      <td>0</td>\n",
       "    </tr>\n",
       "    <tr>\n",
       "      <th>1</th>\n",
       "      <td>&lt;21975671.1075855665520.JavaMail.evans@thyme&gt;</td>\n",
       "      <td>2000-12-13 08:35:00-08:00</td>\n",
       "      <td>messenger@ecm.bloomberg.com</td>\n",
       "      <td>None</td>\n",
       "      <td>Bloomberg Power Lines Report</td>\n",
       "      <td>\\Phillip_Allen_Dec2000\\Notes Folders\\All docum...</td>\n",
       "      <td>Allen-P</td>\n",
       "      <td>pallen.nsf</td>\n",
       "      <td>Here is today's copy of Bloomberg Power Lines....</td>\n",
       "      <td>16252</td>\n",
       "      <td>0</td>\n",
       "    </tr>\n",
       "    <tr>\n",
       "      <th>2</th>\n",
       "      <td>&lt;7452188.1075855667684.JavaMail.evans@thyme&gt;</td>\n",
       "      <td>2000-10-09 07:16:00-07:00</td>\n",
       "      <td>phillip.allen@enron.com</td>\n",
       "      <td>keith.holst@enron.com</td>\n",
       "      <td>Consolidated positions: Issues &amp; To Do list</td>\n",
       "      <td>\\Phillip_Allen_Dec2000\\Notes Folders\\All docum...</td>\n",
       "      <td>Allen-P</td>\n",
       "      <td>pallen.nsf</td>\n",
       "      <td>---------------------- Forwarded by Phillip K ...</td>\n",
       "      <td>5688</td>\n",
       "      <td>0</td>\n",
       "    </tr>\n",
       "    <tr>\n",
       "      <th>3</th>\n",
       "      <td>&lt;23790115.1075855667708.JavaMail.evans@thyme&gt;</td>\n",
       "      <td>2000-10-09 07:00:00-07:00</td>\n",
       "      <td>phillip.allen@enron.com</td>\n",
       "      <td>keith.holst@enron.com</td>\n",
       "      <td>Consolidated positions: Issues &amp; To Do list</td>\n",
       "      <td>\\Phillip_Allen_Dec2000\\Notes Folders\\All docum...</td>\n",
       "      <td>Allen-P</td>\n",
       "      <td>pallen.nsf</td>\n",
       "      <td>---------------------- Forwarded by Phillip K ...</td>\n",
       "      <td>5688</td>\n",
       "      <td>0</td>\n",
       "    </tr>\n",
       "    <tr>\n",
       "      <th>4</th>\n",
       "      <td>&lt;5860470.1075855667730.JavaMail.evans@thyme&gt;</td>\n",
       "      <td>2000-10-05 06:26:00-07:00</td>\n",
       "      <td>phillip.allen@enron.com</td>\n",
       "      <td>david.delainey@enron.com</td>\n",
       "      <td></td>\n",
       "      <td>\\Phillip_Allen_Dec2000\\Notes Folders\\All docum...</td>\n",
       "      <td>Allen-P</td>\n",
       "      <td>pallen.nsf</td>\n",
       "      <td>Dave, \\n\\n Here are the names of the west desk...</td>\n",
       "      <td>120</td>\n",
       "      <td>0</td>\n",
       "    </tr>\n",
       "  </tbody>\n",
       "</table>\n",
       "</div>"
      ],
      "text/plain": [
       "                                      Message-ID                       Date  \\\n",
       "0  <29790972.1075855665306.JavaMail.evans@thyme>  2000-12-13 18:41:00-08:00   \n",
       "1  <21975671.1075855665520.JavaMail.evans@thyme>  2000-12-13 08:35:00-08:00   \n",
       "2   <7452188.1075855667684.JavaMail.evans@thyme>  2000-10-09 07:16:00-07:00   \n",
       "3  <23790115.1075855667708.JavaMail.evans@thyme>  2000-10-09 07:00:00-07:00   \n",
       "4   <5860470.1075855667730.JavaMail.evans@thyme>  2000-10-05 06:26:00-07:00   \n",
       "\n",
       "                                      From                        To  \\\n",
       "0  1.11913372.-2@multexinvestornetwork.com          pallen@enron.com   \n",
       "1              messenger@ecm.bloomberg.com                      None   \n",
       "2                  phillip.allen@enron.com     keith.holst@enron.com   \n",
       "3                  phillip.allen@enron.com     keith.holst@enron.com   \n",
       "4                  phillip.allen@enron.com  david.delainey@enron.com   \n",
       "\n",
       "                                             Subject  \\\n",
       "0  December 14, 2000 - Bear Stearns' predictions ...   \n",
       "1                       Bloomberg Power Lines Report   \n",
       "2        Consolidated positions: Issues & To Do list   \n",
       "3        Consolidated positions: Issues & To Do list   \n",
       "4                                                      \n",
       "\n",
       "                                                Path   Origin    FileName  \\\n",
       "0  \\Phillip_Allen_Dec2000\\Notes Folders\\All docum...  Allen-P  pallen.nsf   \n",
       "1  \\Phillip_Allen_Dec2000\\Notes Folders\\All docum...  Allen-P  pallen.nsf   \n",
       "2  \\Phillip_Allen_Dec2000\\Notes Folders\\All docum...  Allen-P  pallen.nsf   \n",
       "3  \\Phillip_Allen_Dec2000\\Notes Folders\\All docum...  Allen-P  pallen.nsf   \n",
       "4  \\Phillip_Allen_Dec2000\\Notes Folders\\All docum...  Allen-P  pallen.nsf   \n",
       "\n",
       "                                             Content  Content Length  Reply  \n",
       "0  In today's Daily Update you'll find free repor...            8486      0  \n",
       "1  Here is today's copy of Bloomberg Power Lines....           16252      0  \n",
       "2  ---------------------- Forwarded by Phillip K ...            5688      0  \n",
       "3  ---------------------- Forwarded by Phillip K ...            5688      0  \n",
       "4  Dave, \\n\\n Here are the names of the west desk...             120      0  "
      ]
     },
     "execution_count": 17,
     "metadata": {},
     "output_type": "execute_result"
    }
   ],
   "source": [
    "data.head()"
   ]
  },
  {
   "cell_type": "code",
   "execution_count": 19,
   "id": "2909e790",
   "metadata": {},
   "outputs": [
    {
     "data": {
      "text/plain": [
       "False"
      ]
     },
     "execution_count": 19,
     "metadata": {},
     "output_type": "execute_result"
    }
   ],
   "source": [
    "data[\"Date\"].isnull().values.any()"
   ]
  },
  {
   "cell_type": "code",
   "execution_count": 20,
   "id": "35190da0",
   "metadata": {},
   "outputs": [],
   "source": [
    "data.to_csv(\"enron_emailsdf.csv\")"
   ]
  },
  {
   "cell_type": "code",
   "execution_count": null,
   "id": "faf3a986",
   "metadata": {},
   "outputs": [],
   "source": []
  }
 ],
 "metadata": {
  "kernelspec": {
   "display_name": "Python 3 (ipykernel)",
   "language": "python",
   "name": "python3"
  },
  "language_info": {
   "codemirror_mode": {
    "name": "ipython",
    "version": 3
   },
   "file_extension": ".py",
   "mimetype": "text/x-python",
   "name": "python",
   "nbconvert_exporter": "python",
   "pygments_lexer": "ipython3",
   "version": "3.9.7"
  }
 },
 "nbformat": 4,
 "nbformat_minor": 5
}
