{
 "cells": [
  {
   "cell_type": "code",
   "execution_count": 1,
   "id": "bb6e878b",
   "metadata": {},
   "outputs": [],
   "source": [
    "import numpy as np # for data handling\n",
    "import matplotlib.pyplot as plt # for visualisations\n",
    "import pandas as pd # for handling and generating dataframes"
   ]
  },
  {
   "cell_type": "code",
   "execution_count": 2,
   "id": "9d6ab600",
   "metadata": {},
   "outputs": [],
   "source": [
    "file = pd.read_csv('enron_emailsdf.csv', index_col=0)\n",
    "\n",
    "names =pd.read_excel('POI.xlsx',header=None) "
   ]
  },
  {
   "cell_type": "code",
   "execution_count": 3,
   "id": "24be3ca0",
   "metadata": {},
   "outputs": [
    {
     "data": {
      "text/plain": [
       "(224128, 11)"
      ]
     },
     "execution_count": 3,
     "metadata": {},
     "output_type": "execute_result"
    }
   ],
   "source": [
    "file.shape"
   ]
  },
  {
   "cell_type": "code",
   "execution_count": 4,
   "id": "b292143c",
   "metadata": {},
   "outputs": [
    {
     "data": {
      "text/plain": [
       "(224107, 11)"
      ]
     },
     "execution_count": 4,
     "metadata": {},
     "output_type": "execute_result"
    }
   ],
   "source": [
    "file = file[file['Origin'].notna()].reset_index(drop=True)\n",
    "file.shape"
   ]
  },
  {
   "cell_type": "code",
   "execution_count": 5,
   "id": "02325c53",
   "metadata": {},
   "outputs": [],
   "source": [
    "names[0]=names[0].str.strip()"
   ]
  },
  {
   "cell_type": "code",
   "execution_count": 30,
   "id": "ec143ed2",
   "metadata": {},
   "outputs": [
    {
     "data": {
      "text/html": [
       "<div>\n",
       "<style scoped>\n",
       "    .dataframe tbody tr th:only-of-type {\n",
       "        vertical-align: middle;\n",
       "    }\n",
       "\n",
       "    .dataframe tbody tr th {\n",
       "        vertical-align: top;\n",
       "    }\n",
       "\n",
       "    .dataframe thead th {\n",
       "        text-align: right;\n",
       "    }\n",
       "</style>\n",
       "<table border=\"1\" class=\"dataframe\">\n",
       "  <thead>\n",
       "    <tr style=\"text-align: right;\">\n",
       "      <th></th>\n",
       "      <th>Message-ID</th>\n",
       "      <th>Date</th>\n",
       "      <th>From</th>\n",
       "      <th>To</th>\n",
       "      <th>Subject</th>\n",
       "      <th>Path</th>\n",
       "      <th>Origin</th>\n",
       "      <th>FileName</th>\n",
       "      <th>Content</th>\n",
       "      <th>Content Length</th>\n",
       "      <th>Reply</th>\n",
       "      <th>Jail</th>\n",
       "    </tr>\n",
       "  </thead>\n",
       "  <tbody>\n",
       "    <tr>\n",
       "      <th>224102</th>\n",
       "      <td>&lt;26807948.1075842029936.JavaMail.evans@thyme&gt;</td>\n",
       "      <td>2001-11-28 13:30:11-08:00</td>\n",
       "      <td>john.zufferli@enron.com</td>\n",
       "      <td>kori.loibl@enron.com</td>\n",
       "      <td>Trade with John Lavorato</td>\n",
       "      <td>\\ExMerge - Zufferli, John\\Sent Items</td>\n",
       "      <td>ZUFFERLI-J</td>\n",
       "      <td>john zufferli 6-26-02.PST</td>\n",
       "      <td>This is a trade with OIL-SPEC-HEDGE-NG (John L...</td>\n",
       "      <td>341</td>\n",
       "      <td>0</td>\n",
       "      <td>0</td>\n",
       "    </tr>\n",
       "    <tr>\n",
       "      <th>224103</th>\n",
       "      <td>&lt;25835861.1075842029959.JavaMail.evans@thyme&gt;</td>\n",
       "      <td>2001-11-28 12:47:48-08:00</td>\n",
       "      <td>john.zufferli@enron.com</td>\n",
       "      <td>john.lavorato@enron.com</td>\n",
       "      <td>Gas Hedges</td>\n",
       "      <td>\\ExMerge - Zufferli, John\\Sent Items</td>\n",
       "      <td>ZUFFERLI-J</td>\n",
       "      <td>john zufferli 6-26-02.PST</td>\n",
       "      <td>Some of my position is with the Alberta Term b...</td>\n",
       "      <td>117</td>\n",
       "      <td>0</td>\n",
       "      <td>0</td>\n",
       "    </tr>\n",
       "    <tr>\n",
       "      <th>224104</th>\n",
       "      <td>&lt;28979867.1075842029988.JavaMail.evans@thyme&gt;</td>\n",
       "      <td>2001-11-28 07:20:00-08:00</td>\n",
       "      <td>john.zufferli@enron.com</td>\n",
       "      <td>dawn.doucet@enron.com</td>\n",
       "      <td>RE: CONFIDENTIAL</td>\n",
       "      <td>\\ExMerge - Zufferli, John\\Sent Items</td>\n",
       "      <td>ZUFFERLI-J</td>\n",
       "      <td>john zufferli 6-26-02.PST</td>\n",
       "      <td>2\\n\\n -----Original Message-----\\nFrom: \\tDouc...</td>\n",
       "      <td>326</td>\n",
       "      <td>0</td>\n",
       "      <td>0</td>\n",
       "    </tr>\n",
       "    <tr>\n",
       "      <th>224105</th>\n",
       "      <td>&lt;22052556.1075842030013.JavaMail.evans@thyme&gt;</td>\n",
       "      <td>2001-11-27 11:52:45-08:00</td>\n",
       "      <td>john.zufferli@enron.com</td>\n",
       "      <td>jeanie.slone@enron.com</td>\n",
       "      <td>Calgary Analyst/Associate</td>\n",
       "      <td>\\ExMerge - Zufferli, John\\Sent Items</td>\n",
       "      <td>ZUFFERLI-J</td>\n",
       "      <td>john zufferli 6-26-02.PST</td>\n",
       "      <td>Analyst\\t\\t\\t\\t\\tRank\\n\\nStephane Brodeur\\t\\t\\...</td>\n",
       "      <td>170</td>\n",
       "      <td>0</td>\n",
       "      <td>0</td>\n",
       "    </tr>\n",
       "    <tr>\n",
       "      <th>224106</th>\n",
       "      <td>&lt;28618979.1075842030037.JavaMail.evans@thyme&gt;</td>\n",
       "      <td>2001-11-26 10:48:43-08:00</td>\n",
       "      <td>john.zufferli@enron.com</td>\n",
       "      <td>livia_zufferli@monitor.com</td>\n",
       "      <td>RE: ali's essays</td>\n",
       "      <td>\\ExMerge - Zufferli, John\\Sent Items</td>\n",
       "      <td>ZUFFERLI-J</td>\n",
       "      <td>john zufferli 6-26-02.PST</td>\n",
       "      <td>i think the YMCA has a class that is for peopl...</td>\n",
       "      <td>3694</td>\n",
       "      <td>0</td>\n",
       "      <td>0</td>\n",
       "    </tr>\n",
       "  </tbody>\n",
       "</table>\n",
       "</div>"
      ],
      "text/plain": [
       "                                           Message-ID  \\\n",
       "224102  <26807948.1075842029936.JavaMail.evans@thyme>   \n",
       "224103  <25835861.1075842029959.JavaMail.evans@thyme>   \n",
       "224104  <28979867.1075842029988.JavaMail.evans@thyme>   \n",
       "224105  <22052556.1075842030013.JavaMail.evans@thyme>   \n",
       "224106  <28618979.1075842030037.JavaMail.evans@thyme>   \n",
       "\n",
       "                             Date                     From  \\\n",
       "224102  2001-11-28 13:30:11-08:00  john.zufferli@enron.com   \n",
       "224103  2001-11-28 12:47:48-08:00  john.zufferli@enron.com   \n",
       "224104  2001-11-28 07:20:00-08:00  john.zufferli@enron.com   \n",
       "224105  2001-11-27 11:52:45-08:00  john.zufferli@enron.com   \n",
       "224106  2001-11-26 10:48:43-08:00  john.zufferli@enron.com   \n",
       "\n",
       "                                To                    Subject  \\\n",
       "224102        kori.loibl@enron.com   Trade with John Lavorato   \n",
       "224103     john.lavorato@enron.com                 Gas Hedges   \n",
       "224104       dawn.doucet@enron.com           RE: CONFIDENTIAL   \n",
       "224105      jeanie.slone@enron.com  Calgary Analyst/Associate   \n",
       "224106  livia_zufferli@monitor.com           RE: ali's essays   \n",
       "\n",
       "                                        Path      Origin  \\\n",
       "224102  \\ExMerge - Zufferli, John\\Sent Items  ZUFFERLI-J   \n",
       "224103  \\ExMerge - Zufferli, John\\Sent Items  ZUFFERLI-J   \n",
       "224104  \\ExMerge - Zufferli, John\\Sent Items  ZUFFERLI-J   \n",
       "224105  \\ExMerge - Zufferli, John\\Sent Items  ZUFFERLI-J   \n",
       "224106  \\ExMerge - Zufferli, John\\Sent Items  ZUFFERLI-J   \n",
       "\n",
       "                         FileName  \\\n",
       "224102  john zufferli 6-26-02.PST   \n",
       "224103  john zufferli 6-26-02.PST   \n",
       "224104  john zufferli 6-26-02.PST   \n",
       "224105  john zufferli 6-26-02.PST   \n",
       "224106  john zufferli 6-26-02.PST   \n",
       "\n",
       "                                                  Content  Content Length  \\\n",
       "224102  This is a trade with OIL-SPEC-HEDGE-NG (John L...             341   \n",
       "224103  Some of my position is with the Alberta Term b...             117   \n",
       "224104  2\\n\\n -----Original Message-----\\nFrom: \\tDouc...             326   \n",
       "224105  Analyst\\t\\t\\t\\t\\tRank\\n\\nStephane Brodeur\\t\\t\\...             170   \n",
       "224106  i think the YMCA has a class that is for peopl...            3694   \n",
       "\n",
       "        Reply  Jail  \n",
       "224102      0     0  \n",
       "224103      0     0  \n",
       "224104      0     0  \n",
       "224105      0     0  \n",
       "224106      0     0  "
      ]
     },
     "execution_count": 30,
     "metadata": {},
     "output_type": "execute_result"
    }
   ],
   "source": [
    "jail=['Lay-K','Skilling-J', 'Forney-J', 'Delainey-D']\n",
    "file['Jail'] = file.Origin.isin(jail).astype('int')\n",
    "file.tail()"
   ]
  },
  {
   "cell_type": "code",
   "execution_count": 29,
   "id": "3fae5ced",
   "metadata": {},
   "outputs": [
    {
     "data": {
      "text/plain": [
       "array([0, 1])"
      ]
     },
     "execution_count": 29,
     "metadata": {},
     "output_type": "execute_result"
    }
   ],
   "source": [
    "file['Jail'].unique()"
   ]
  },
  {
   "cell_type": "code",
   "execution_count": null,
   "id": "2dd4d34e",
   "metadata": {},
   "outputs": [],
   "source": [
    "file.shape"
   ]
  },
  {
   "cell_type": "code",
   "execution_count": 14,
   "id": "934a46c6",
   "metadata": {},
   "outputs": [],
   "source": [
    "df = pd.DataFrame(columns=file.columns)\n",
    "\n",
    "for last_name in last_names:\n",
    "    df = pd.concat([df,file[file[\"Origin\"].str.startswith(last_name.strip()) == True]])\n",
    "    \n"
   ]
  },
  {
   "cell_type": "code",
   "execution_count": null,
   "id": "c5f2aad0",
   "metadata": {},
   "outputs": [],
   "source": []
  }
 ],
 "metadata": {
  "kernelspec": {
   "display_name": "Python 3 (ipykernel)",
   "language": "python",
   "name": "python3"
  },
  "language_info": {
   "codemirror_mode": {
    "name": "ipython",
    "version": 3
   },
   "file_extension": ".py",
   "mimetype": "text/x-python",
   "name": "python",
   "nbconvert_exporter": "python",
   "pygments_lexer": "ipython3",
   "version": "3.9.7"
  }
 },
 "nbformat": 4,
 "nbformat_minor": 5
}
