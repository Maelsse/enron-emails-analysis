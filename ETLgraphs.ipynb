{
 "cells": [
  {
   "cell_type": "code",
   "execution_count": 1,
   "id": "e69cd10b",
   "metadata": {},
   "outputs": [],
   "source": [
    "#import libraries\n",
    "\n",
    "import os\n",
    "import numpy as np\n",
    "import pandas as pd\n",
    "import matplotlib.pyplot as plt\n",
    "import matplotlib as mpl\n",
    "%matplotlib inline"
   ]
  },
  {
   "cell_type": "code",
   "execution_count": 2,
   "id": "4d5b6c0c",
   "metadata": {},
   "outputs": [],
   "source": [
    "df = pd.read_csv('enron_emailsdf.csv',index_col=[0])"
   ]
  },
  {
   "cell_type": "markdown",
   "id": "c9d45420",
   "metadata": {},
   "source": [
    "## DATA PREPROCESING"
   ]
  },
  {
   "cell_type": "markdown",
   "id": "c1134d94",
   "metadata": {},
   "source": [
    "An insinght into the Enron emails database "
   ]
  },
  {
   "cell_type": "code",
   "execution_count": 3,
   "id": "8515ea3f",
   "metadata": {},
   "outputs": [],
   "source": [
    "df['Date'] = pd.to_datetime(df['Date'], utc=True)\n",
    "df['Year'] = df['Date'].dt.year\n",
    "df['month'] = df['Date'].dt.month\n"
   ]
  },
  {
   "cell_type": "markdown",
   "id": "42c7ef0a",
   "metadata": {},
   "source": [
    "## Summary statistics"
   ]
  },
  {
   "cell_type": "code",
   "execution_count": 4,
   "id": "5ab969eb",
   "metadata": {},
   "outputs": [
    {
     "data": {
      "text/html": [
       "<div>\n",
       "<style scoped>\n",
       "    .dataframe tbody tr th:only-of-type {\n",
       "        vertical-align: middle;\n",
       "    }\n",
       "\n",
       "    .dataframe tbody tr th {\n",
       "        vertical-align: top;\n",
       "    }\n",
       "\n",
       "    .dataframe thead th {\n",
       "        text-align: right;\n",
       "    }\n",
       "</style>\n",
       "<table border=\"1\" class=\"dataframe\">\n",
       "  <thead>\n",
       "    <tr style=\"text-align: right;\">\n",
       "      <th></th>\n",
       "      <th>mean</th>\n",
       "      <th>median</th>\n",
       "      <th>var</th>\n",
       "      <th>std</th>\n",
       "      <th>sem</th>\n",
       "    </tr>\n",
       "    <tr>\n",
       "      <th>Year</th>\n",
       "      <th></th>\n",
       "      <th></th>\n",
       "      <th></th>\n",
       "      <th></th>\n",
       "      <th></th>\n",
       "    </tr>\n",
       "  </thead>\n",
       "  <tbody>\n",
       "    <tr>\n",
       "      <th>1980</th>\n",
       "      <td>59.0</td>\n",
       "      <td>59.0</td>\n",
       "      <td>NaN</td>\n",
       "      <td>NaN</td>\n",
       "      <td>NaN</td>\n",
       "    </tr>\n",
       "    <tr>\n",
       "      <th>1986</th>\n",
       "      <td>568.0</td>\n",
       "      <td>568.0</td>\n",
       "      <td>279752.0</td>\n",
       "      <td>528.9</td>\n",
       "      <td>374.0</td>\n",
       "    </tr>\n",
       "    <tr>\n",
       "      <th>1997</th>\n",
       "      <td>101.9</td>\n",
       "      <td>66.5</td>\n",
       "      <td>10396.1</td>\n",
       "      <td>102.0</td>\n",
       "      <td>9.6</td>\n",
       "    </tr>\n",
       "    <tr>\n",
       "      <th>1998</th>\n",
       "      <td>1433.5</td>\n",
       "      <td>807.5</td>\n",
       "      <td>4014566.4</td>\n",
       "      <td>2003.6</td>\n",
       "      <td>213.6</td>\n",
       "    </tr>\n",
       "    <tr>\n",
       "      <th>1999</th>\n",
       "      <td>1356.8</td>\n",
       "      <td>611.0</td>\n",
       "      <td>20912113.2</td>\n",
       "      <td>4573.0</td>\n",
       "      <td>66.3</td>\n",
       "    </tr>\n",
       "    <tr>\n",
       "      <th>2000</th>\n",
       "      <td>1463.7</td>\n",
       "      <td>691.0</td>\n",
       "      <td>9192037.4</td>\n",
       "      <td>3031.8</td>\n",
       "      <td>13.1</td>\n",
       "    </tr>\n",
       "    <tr>\n",
       "      <th>2001</th>\n",
       "      <td>2056.8</td>\n",
       "      <td>810.0</td>\n",
       "      <td>96951989.1</td>\n",
       "      <td>9846.4</td>\n",
       "      <td>26.5</td>\n",
       "    </tr>\n",
       "    <tr>\n",
       "      <th>2002</th>\n",
       "      <td>2170.1</td>\n",
       "      <td>806.0</td>\n",
       "      <td>215100618.2</td>\n",
       "      <td>14666.3</td>\n",
       "      <td>89.0</td>\n",
       "    </tr>\n",
       "    <tr>\n",
       "      <th>2004</th>\n",
       "      <td>4020.0</td>\n",
       "      <td>2468.0</td>\n",
       "      <td>25475300.1</td>\n",
       "      <td>5047.3</td>\n",
       "      <td>892.2</td>\n",
       "    </tr>\n",
       "    <tr>\n",
       "      <th>2005</th>\n",
       "      <td>14484.0</td>\n",
       "      <td>14484.0</td>\n",
       "      <td>NaN</td>\n",
       "      <td>NaN</td>\n",
       "      <td>NaN</td>\n",
       "    </tr>\n",
       "    <tr>\n",
       "      <th>2007</th>\n",
       "      <td>170.0</td>\n",
       "      <td>170.0</td>\n",
       "      <td>NaN</td>\n",
       "      <td>NaN</td>\n",
       "      <td>NaN</td>\n",
       "    </tr>\n",
       "    <tr>\n",
       "      <th>2012</th>\n",
       "      <td>884.0</td>\n",
       "      <td>884.0</td>\n",
       "      <td>304200.0</td>\n",
       "      <td>551.5</td>\n",
       "      <td>390.0</td>\n",
       "    </tr>\n",
       "    <tr>\n",
       "      <th>2020</th>\n",
       "      <td>6913.5</td>\n",
       "      <td>6913.5</td>\n",
       "      <td>32040012.5</td>\n",
       "      <td>5660.4</td>\n",
       "      <td>4002.5</td>\n",
       "    </tr>\n",
       "    <tr>\n",
       "      <th>2024</th>\n",
       "      <td>8621.0</td>\n",
       "      <td>8621.0</td>\n",
       "      <td>NaN</td>\n",
       "      <td>NaN</td>\n",
       "      <td>NaN</td>\n",
       "    </tr>\n",
       "    <tr>\n",
       "      <th>2043</th>\n",
       "      <td>31.0</td>\n",
       "      <td>31.0</td>\n",
       "      <td>NaN</td>\n",
       "      <td>NaN</td>\n",
       "      <td>NaN</td>\n",
       "    </tr>\n",
       "    <tr>\n",
       "      <th>2044</th>\n",
       "      <td>197.3</td>\n",
       "      <td>215.0</td>\n",
       "      <td>1566.3</td>\n",
       "      <td>39.6</td>\n",
       "      <td>22.8</td>\n",
       "    </tr>\n",
       "  </tbody>\n",
       "</table>\n",
       "</div>"
      ],
      "text/plain": [
       "         mean   median          var      std     sem\n",
       "Year                                                \n",
       "1980     59.0     59.0          NaN      NaN     NaN\n",
       "1986    568.0    568.0     279752.0    528.9   374.0\n",
       "1997    101.9     66.5      10396.1    102.0     9.6\n",
       "1998   1433.5    807.5    4014566.4   2003.6   213.6\n",
       "1999   1356.8    611.0   20912113.2   4573.0    66.3\n",
       "2000   1463.7    691.0    9192037.4   3031.8    13.1\n",
       "2001   2056.8    810.0   96951989.1   9846.4    26.5\n",
       "2002   2170.1    806.0  215100618.2  14666.3    89.0\n",
       "2004   4020.0   2468.0   25475300.1   5047.3   892.2\n",
       "2005  14484.0  14484.0          NaN      NaN     NaN\n",
       "2007    170.0    170.0          NaN      NaN     NaN\n",
       "2012    884.0    884.0     304200.0    551.5   390.0\n",
       "2020   6913.5   6913.5   32040012.5   5660.4  4002.5\n",
       "2024   8621.0   8621.0          NaN      NaN     NaN\n",
       "2043     31.0     31.0          NaN      NaN     NaN\n",
       "2044    197.3    215.0       1566.3     39.6    22.8"
      ]
     },
     "execution_count": 4,
     "metadata": {},
     "output_type": "execute_result"
    }
   ],
   "source": [
    "stats2=df.groupby(['Year'])[\"Content Length\"].agg(['mean', 'median', 'var', 'std', 'sem']).round(1)\n",
    "stats2"
   ]
  },
  {
   "cell_type": "code",
   "execution_count": 5,
   "id": "36d4dc95",
   "metadata": {},
   "outputs": [
    {
     "data": {
      "text/html": [
       "<div>\n",
       "<style scoped>\n",
       "    .dataframe tbody tr th:only-of-type {\n",
       "        vertical-align: middle;\n",
       "    }\n",
       "\n",
       "    .dataframe tbody tr th {\n",
       "        vertical-align: top;\n",
       "    }\n",
       "\n",
       "    .dataframe thead th {\n",
       "        text-align: right;\n",
       "    }\n",
       "</style>\n",
       "<table border=\"1\" class=\"dataframe\">\n",
       "  <thead>\n",
       "    <tr style=\"text-align: right;\">\n",
       "      <th></th>\n",
       "      <th>Year</th>\n",
       "      <th>Total emails</th>\n",
       "    </tr>\n",
       "  </thead>\n",
       "  <tbody>\n",
       "    <tr>\n",
       "      <th>0</th>\n",
       "      <td>1980</td>\n",
       "      <td>1</td>\n",
       "    </tr>\n",
       "    <tr>\n",
       "      <th>1</th>\n",
       "      <td>1986</td>\n",
       "      <td>2</td>\n",
       "    </tr>\n",
       "    <tr>\n",
       "      <th>2</th>\n",
       "      <td>1997</td>\n",
       "      <td>112</td>\n",
       "    </tr>\n",
       "    <tr>\n",
       "      <th>3</th>\n",
       "      <td>1998</td>\n",
       "      <td>88</td>\n",
       "    </tr>\n",
       "    <tr>\n",
       "      <th>4</th>\n",
       "      <td>1999</td>\n",
       "      <td>4758</td>\n",
       "    </tr>\n",
       "    <tr>\n",
       "      <th>5</th>\n",
       "      <td>2000</td>\n",
       "      <td>53440</td>\n",
       "    </tr>\n",
       "    <tr>\n",
       "      <th>6</th>\n",
       "      <td>2001</td>\n",
       "      <td>138505</td>\n",
       "    </tr>\n",
       "    <tr>\n",
       "      <th>7</th>\n",
       "      <td>2002</td>\n",
       "      <td>27158</td>\n",
       "    </tr>\n",
       "    <tr>\n",
       "      <th>8</th>\n",
       "      <td>2004</td>\n",
       "      <td>32</td>\n",
       "    </tr>\n",
       "    <tr>\n",
       "      <th>9</th>\n",
       "      <td>2005</td>\n",
       "      <td>1</td>\n",
       "    </tr>\n",
       "    <tr>\n",
       "      <th>10</th>\n",
       "      <td>2007</td>\n",
       "      <td>1</td>\n",
       "    </tr>\n",
       "    <tr>\n",
       "      <th>11</th>\n",
       "      <td>2012</td>\n",
       "      <td>2</td>\n",
       "    </tr>\n",
       "    <tr>\n",
       "      <th>12</th>\n",
       "      <td>2020</td>\n",
       "      <td>2</td>\n",
       "    </tr>\n",
       "    <tr>\n",
       "      <th>13</th>\n",
       "      <td>2024</td>\n",
       "      <td>1</td>\n",
       "    </tr>\n",
       "    <tr>\n",
       "      <th>14</th>\n",
       "      <td>2043</td>\n",
       "      <td>1</td>\n",
       "    </tr>\n",
       "    <tr>\n",
       "      <th>15</th>\n",
       "      <td>2044</td>\n",
       "      <td>3</td>\n",
       "    </tr>\n",
       "  </tbody>\n",
       "</table>\n",
       "</div>"
      ],
      "text/plain": [
       "    Year  Total emails\n",
       "0   1980             1\n",
       "1   1986             2\n",
       "2   1997           112\n",
       "3   1998            88\n",
       "4   1999          4758\n",
       "5   2000         53440\n",
       "6   2001        138505\n",
       "7   2002         27158\n",
       "8   2004            32\n",
       "9   2005             1\n",
       "10  2007             1\n",
       "11  2012             2\n",
       "12  2020             2\n",
       "13  2024             1\n",
       "14  2043             1\n",
       "15  2044             3"
      ]
     },
     "execution_count": 5,
     "metadata": {},
     "output_type": "execute_result"
    }
   ],
   "source": [
    "stats3=df.groupby(['Year'])[\"Message-ID\"].count()\n",
    "stats3=pd.DataFrame(stats3)\n",
    "stats3.columns=['Total emails']\n",
    "stats3 =stats3.reset_index(drop=False)\n",
    "stats3"
   ]
  },
  {
   "cell_type": "code",
   "execution_count": 39,
   "id": "2d66a957",
   "metadata": {},
   "outputs": [
    {
     "data": {
      "text/plain": [
       "<Figure size 1440x720 with 0 Axes>"
      ]
     },
     "metadata": {},
     "output_type": "display_data"
    },
    {
     "data": {
      "image/png": "[encoded data removed]",
      "text/plain": [
       "<Figure size 432x288 with 1 Axes>"
      ]
     },
     "metadata": {},
     "output_type": "display_data"
    }
   ],
   "source": [
    "mpl.style.use('ggplot')\n",
    "plt.figure(figsize=(20,10)) \n",
    "stats3.plot.bar(x='Year', y='Total emails', rot=90)\n",
    "plt.title('Total emails in Enron Database')\n",
    "\n",
    "plt.savefig('images/Natalia-ETL-totalemails.png', bbox_inches='tight')"
   ]
  },
  {
   "cell_type": "code",
   "execution_count": 40,
   "id": "6c1ca1aa",
   "metadata": {},
   "outputs": [
    {
     "data": {
      "image/png": "[encoded data removed]",
      "text/plain": [
       "<Figure size 432x288 with 1 Axes>"
      ]
     },
     "metadata": {},
     "output_type": "display_data"
    }
   ],
   "source": [
    "test=df.groupby(['Year'])[\"Content Length\"].median()\n",
    "test.plot(kind='line',title=\"Median Content Length per year\")\n",
    "plt.savefig('images/Natalia-ETL-ContentLength.png', bbox_inches='tight')"
   ]
  },
  {
   "cell_type": "code",
   "execution_count": 8,
   "id": "5e86e969",
   "metadata": {},
   "outputs": [
    {
     "data": {
      "text/plain": [
       "<AxesSubplot:title={'center':'Content Length per Jail Type in 2021'}, xlabel='Jail'>"
      ]
     },
     "execution_count": 8,
     "metadata": {},
     "output_type": "execute_result"
    },
    {
     "data": {
      "image/png": "[encoded data removed]",
      "text/plain": [
       "<Figure size 432x288 with 1 Axes>"
      ]
     },
     "metadata": {},
     "output_type": "display_data"
    }
   ],
   "source": [
    "(df[df['Year'] == 2001].groupby(['Jail'])[\"Content Length\"].median()).plot(kind='bar',title=\"Content Length per Jail Type in 2021\")"
   ]
  },
  {
   "cell_type": "code",
   "execution_count": 9,
   "id": "60039e34",
   "metadata": {},
   "outputs": [
    {
     "data": {
      "text/plain": [
       "<AxesSubplot:title={'center':'Content Length per month in 2021'}, xlabel='month'>"
      ]
     },
     "execution_count": 9,
     "metadata": {},
     "output_type": "execute_result"
    },
    {
     "data": {
      "image/png": "[encoded data removed]",
      "text/plain": [
       "<Figure size 432x288 with 1 Axes>"
      ]
     },
     "metadata": {},
     "output_type": "display_data"
    }
   ],
   "source": [
    "(df[df['Year'] == 2001].groupby(['month'])[\"Content Length\"].median()).plot(kind='bar',title=\"Content Length per month in 2021\")"
   ]
  },
  {
   "cell_type": "code",
   "execution_count": 10,
   "id": "62cee6c9",
   "metadata": {},
   "outputs": [
    {
     "data": {
      "text/plain": [
       "<AxesSubplot:title={'center':'Median Content Length per Response Type'}, ylabel='Content Length'>"
      ]
     },
     "execution_count": 10,
     "metadata": {},
     "output_type": "execute_result"
    },
    {
     "data": {
      "image/png": "[encoded data removed]",
      "text/plain": [
       "<Figure size 432x288 with 1 Axes>"
      ]
     },
     "metadata": {},
     "output_type": "display_data"
    }
   ],
   "source": [
    "(df.groupby(['Reply'])[\"Content Length\"].median()).plot(kind='pie',title=\"Median Content Length per Response Type\")"
   ]
  },
  {
   "cell_type": "code",
   "execution_count": 11,
   "id": "e718359d",
   "metadata": {},
   "outputs": [
    {
     "data": {
      "text/plain": [
       "<AxesSubplot:title={'center':'Content Length per Jail Type'}, ylabel='Content Length'>"
      ]
     },
     "execution_count": 11,
     "metadata": {},
     "output_type": "execute_result"
    },
    {
     "data": {
      "image/png": "[encoded data removed]",
      "text/plain": [
       "<Figure size 432x288 with 1 Axes>"
      ]
     },
     "metadata": {},
     "output_type": "display_data"
    }
   ],
   "source": [
    "(df.groupby(['Jail'])[\"Content Length\"].median()).plot(kind='pie',title=\"Content Length per Jail Type\")"
   ]
  },
  {
   "cell_type": "code",
   "execution_count": 12,
   "id": "b78ac2df",
   "metadata": {},
   "outputs": [
    {
     "data": {
      "text/plain": [
       "Jail\n",
       "0     774.0\n",
       "1    1071.0\n",
       "Name: Content Length, dtype: float64"
      ]
     },
     "execution_count": 12,
     "metadata": {},
     "output_type": "execute_result"
    }
   ],
   "source": [
    "df.groupby(['Jail'])[\"Content Length\"].median()"
   ]
  },
  {
   "cell_type": "code",
   "execution_count": 13,
   "id": "84d26b02",
   "metadata": {},
   "outputs": [],
   "source": [
    "median= df[\"Origin\"].value_counts().median()"
   ]
  },
  {
   "cell_type": "markdown",
   "id": "b7cb7fa6",
   "metadata": {},
   "source": [
    "For distributions that have outliers or are skewed, the median is often the preferred measure of central tendency because the median is more resistant to outliers than the mean."
   ]
  },
  {
   "cell_type": "code",
   "execution_count": 14,
   "id": "5ed8671d",
   "metadata": {},
   "outputs": [
    {
     "data": {
      "text/plain": [
       "0    DASOVICH-J\n",
       "dtype: object"
      ]
     },
     "execution_count": 14,
     "metadata": {},
     "output_type": "execute_result"
    }
   ],
   "source": [
    "df[\"Origin\"].mode()"
   ]
  },
  {
   "cell_type": "code",
   "execution_count": 15,
   "id": "339efcad",
   "metadata": {},
   "outputs": [
    {
     "data": {
      "text/plain": [
       "['DASOVICH-J',\n",
       " 'Kaminski-V',\n",
       " 'JONES-T',\n",
       " 'Taylor-M',\n",
       " 'SHACKLETON-S',\n",
       " 'MANN-K',\n",
       " 'KITCHEN-L',\n",
       " 'Farmer-D',\n",
       " 'NEMEC-G',\n",
       " 'Sanders-R']"
      ]
     },
     "execution_count": 15,
     "metadata": {},
     "output_type": "execute_result"
    }
   ],
   "source": [
    "df[\"Origin\"].value_counts()[:10].index.tolist()"
   ]
  },
  {
   "cell_type": "code",
   "execution_count": 24,
   "id": "9abf7780",
   "metadata": {},
   "outputs": [],
   "source": [
    "jail=['Lay-K','Skilling-J', 'Forney-J', 'Delainey-D']\n",
    "people=df.groupby(['Origin'])[\"Message-ID\"].count()\n",
    "people=pd.DataFrame(people)\n",
    "people.columns=['Total emails']\n",
    "people=people.reset_index(drop=False)\n",
    "people.isin(jail)"
   ]
  },
  {
   "cell_type": "code",
   "execution_count": 33,
   "id": "00de83cf",
   "metadata": {},
   "outputs": [
    {
     "data": {
      "text/html": [
       "<div>\n",
       "<style scoped>\n",
       "    .dataframe tbody tr th:only-of-type {\n",
       "        vertical-align: middle;\n",
       "    }\n",
       "\n",
       "    .dataframe tbody tr th {\n",
       "        vertical-align: top;\n",
       "    }\n",
       "\n",
       "    .dataframe thead th {\n",
       "        text-align: right;\n",
       "    }\n",
       "</style>\n",
       "<table border=\"1\" class=\"dataframe\">\n",
       "  <thead>\n",
       "    <tr style=\"text-align: right;\">\n",
       "      <th></th>\n",
       "      <th>Origin</th>\n",
       "      <th>Total emails</th>\n",
       "    </tr>\n",
       "  </thead>\n",
       "  <tbody>\n",
       "    <tr>\n",
       "      <th>43</th>\n",
       "      <td>Delainey-D</td>\n",
       "      <td>877</td>\n",
       "    </tr>\n",
       "    <tr>\n",
       "      <th>57</th>\n",
       "      <td>Forney-J</td>\n",
       "      <td>213</td>\n",
       "    </tr>\n",
       "    <tr>\n",
       "      <th>115</th>\n",
       "      <td>Lay-K</td>\n",
       "      <td>1338</td>\n",
       "    </tr>\n",
       "    <tr>\n",
       "      <th>216</th>\n",
       "      <td>Skilling-J</td>\n",
       "      <td>1053</td>\n",
       "    </tr>\n",
       "  </tbody>\n",
       "</table>\n",
       "</div>"
      ],
      "text/plain": [
       "         Origin  Total emails\n",
       "43   Delainey-D           877\n",
       "57     Forney-J           213\n",
       "115       Lay-K          1338\n",
       "216  Skilling-J          1053"
      ]
     },
     "execution_count": 33,
     "metadata": {},
     "output_type": "execute_result"
    }
   ],
   "source": [
    "\n",
    "df1 = people[people['Origin'].isin(jail)]\n",
    "df1"
   ]
  },
  {
   "cell_type": "code",
   "execution_count": 38,
   "id": "4f115c71",
   "metadata": {},
   "outputs": [
    {
     "data": {
      "text/plain": [
       "Text(0.5, 1.0, 'Total emails per people of interest')"
      ]
     },
     "execution_count": 38,
     "metadata": {},
     "output_type": "execute_result"
    },
    {
     "data": {
      "image/png": "[encoded data removed]",
      "text/plain": [
       "<Figure size 432x288 with 1 Axes>"
      ]
     },
     "metadata": {},
     "output_type": "display_data"
    }
   ],
   "source": [
    "df1.plot.bar(x='Origin', y='Total emails')\n",
    "plt.title('Total emails per people of interest')"
   ]
  },
  {
   "cell_type": "code",
   "execution_count": null,
   "id": "6b756c88",
   "metadata": {},
   "outputs": [],
   "source": []
  }
 ],
 "metadata": {
  "kernelspec": {
   "display_name": "Python 3 (ipykernel)",
   "language": "python",
   "name": "python3"
  },
  "language_info": {
   "codemirror_mode": {
    "name": "ipython",
    "version": 3
   },
   "file_extension": ".py",
   "mimetype": "text/x-python",
   "name": "python",
   "nbconvert_exporter": "python",
   "pygments_lexer": "ipython3",
   "version": "3.9.7"
  }
 },
 "nbformat": 4,
 "nbformat_minor": 5
}
