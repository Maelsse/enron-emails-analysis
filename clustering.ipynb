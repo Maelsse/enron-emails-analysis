{
 "cells": [
  {
   "cell_type": "markdown",
   "id": "dbe387c2",
   "metadata": {},
   "source": [
    "# Clustering\n"
   ]
  },
  {
   "cell_type": "code",
   "execution_count": 1,
   "id": "711196f3",
   "metadata": {},
   "outputs": [],
   "source": [
    "#import libraries\n",
    "\n",
    "import os\n",
    "import numpy as np\n",
    "import pandas as pd\n",
    "import matplotlib.pyplot as plt\n",
    "\n",
    "from sklearn.decomposition import PCA\n",
    "from sklearn.decomposition import TruncatedSVD\n",
    "from sklearn.cluster import KMeans, MiniBatchKMeans\n",
    "from sklearn.feature_extraction.text import TfidfVectorizer, ENGLISH_STOP_WORDS"
   ]
  },
  {
   "cell_type": "code",
   "execution_count": 2,
   "id": "98b223da",
   "metadata": {},
   "outputs": [
    {
     "name": "stdout",
     "output_type": "stream",
     "text": [
      "(224128, 12)\n"
     ]
    },
    {
     "data": {
      "text/html": [
       "<div>\n",
       "<style scoped>\n",
       "    .dataframe tbody tr th:only-of-type {\n",
       "        vertical-align: middle;\n",
       "    }\n",
       "\n",
       "    .dataframe tbody tr th {\n",
       "        vertical-align: top;\n",
       "    }\n",
       "\n",
       "    .dataframe thead th {\n",
       "        text-align: right;\n",
       "    }\n",
       "</style>\n",
       "<table border=\"1\" class=\"dataframe\">\n",
       "  <thead>\n",
       "    <tr style=\"text-align: right;\">\n",
       "      <th></th>\n",
       "      <th>Unnamed: 0</th>\n",
       "      <th>Message-ID</th>\n",
       "      <th>Date</th>\n",
       "      <th>From</th>\n",
       "      <th>To</th>\n",
       "      <th>Subject</th>\n",
       "      <th>Path</th>\n",
       "      <th>Origin</th>\n",
       "      <th>FileName</th>\n",
       "      <th>Content</th>\n",
       "      <th>Content Length</th>\n",
       "      <th>Reply</th>\n",
       "    </tr>\n",
       "  </thead>\n",
       "  <tbody>\n",
       "    <tr>\n",
       "      <th>0</th>\n",
       "      <td>0</td>\n",
       "      <td>&lt;29790972.1075855665306.JavaMail.evans@thyme&gt;</td>\n",
       "      <td>2000-12-13 18:41:00-08:00</td>\n",
       "      <td>1.11913372.-2@multexinvestornetwork.com</td>\n",
       "      <td>pallen@enron.com</td>\n",
       "      <td>December 14, 2000 - Bear Stearns' predictions ...</td>\n",
       "      <td>\\Phillip_Allen_Dec2000\\Notes Folders\\All docum...</td>\n",
       "      <td>Allen-P</td>\n",
       "      <td>pallen.nsf</td>\n",
       "      <td>In today's Daily Update you'll find free repor...</td>\n",
       "      <td>8486</td>\n",
       "      <td>0</td>\n",
       "    </tr>\n",
       "    <tr>\n",
       "      <th>1</th>\n",
       "      <td>1</td>\n",
       "      <td>&lt;21975671.1075855665520.JavaMail.evans@thyme&gt;</td>\n",
       "      <td>2000-12-13 08:35:00-08:00</td>\n",
       "      <td>messenger@ecm.bloomberg.com</td>\n",
       "      <td>NaN</td>\n",
       "      <td>Bloomberg Power Lines Report</td>\n",
       "      <td>\\Phillip_Allen_Dec2000\\Notes Folders\\All docum...</td>\n",
       "      <td>Allen-P</td>\n",
       "      <td>pallen.nsf</td>\n",
       "      <td>Here is today's copy of Bloomberg Power Lines....</td>\n",
       "      <td>16252</td>\n",
       "      <td>0</td>\n",
       "    </tr>\n",
       "    <tr>\n",
       "      <th>2</th>\n",
       "      <td>2</td>\n",
       "      <td>&lt;7452188.1075855667684.JavaMail.evans@thyme&gt;</td>\n",
       "      <td>2000-10-09 07:16:00-07:00</td>\n",
       "      <td>phillip.allen@enron.com</td>\n",
       "      <td>keith.holst@enron.com</td>\n",
       "      <td>Consolidated positions: Issues &amp; To Do list</td>\n",
       "      <td>\\Phillip_Allen_Dec2000\\Notes Folders\\All docum...</td>\n",
       "      <td>Allen-P</td>\n",
       "      <td>pallen.nsf</td>\n",
       "      <td>---------------------- Forwarded by Phillip K ...</td>\n",
       "      <td>5688</td>\n",
       "      <td>0</td>\n",
       "    </tr>\n",
       "    <tr>\n",
       "      <th>3</th>\n",
       "      <td>3</td>\n",
       "      <td>&lt;23790115.1075855667708.JavaMail.evans@thyme&gt;</td>\n",
       "      <td>2000-10-09 07:00:00-07:00</td>\n",
       "      <td>phillip.allen@enron.com</td>\n",
       "      <td>keith.holst@enron.com</td>\n",
       "      <td>Consolidated positions: Issues &amp; To Do list</td>\n",
       "      <td>\\Phillip_Allen_Dec2000\\Notes Folders\\All docum...</td>\n",
       "      <td>Allen-P</td>\n",
       "      <td>pallen.nsf</td>\n",
       "      <td>---------------------- Forwarded by Phillip K ...</td>\n",
       "      <td>5688</td>\n",
       "      <td>0</td>\n",
       "    </tr>\n",
       "    <tr>\n",
       "      <th>4</th>\n",
       "      <td>4</td>\n",
       "      <td>&lt;5860470.1075855667730.JavaMail.evans@thyme&gt;</td>\n",
       "      <td>2000-10-05 06:26:00-07:00</td>\n",
       "      <td>phillip.allen@enron.com</td>\n",
       "      <td>david.delainey@enron.com</td>\n",
       "      <td>NaN</td>\n",
       "      <td>\\Phillip_Allen_Dec2000\\Notes Folders\\All docum...</td>\n",
       "      <td>Allen-P</td>\n",
       "      <td>pallen.nsf</td>\n",
       "      <td>Dave, \\n\\n Here are the names of the west desk...</td>\n",
       "      <td>120</td>\n",
       "      <td>0</td>\n",
       "    </tr>\n",
       "  </tbody>\n",
       "</table>\n",
       "</div>"
      ],
      "text/plain": [
       "   Unnamed: 0                                     Message-ID  \\\n",
       "0           0  <29790972.1075855665306.JavaMail.evans@thyme>   \n",
       "1           1  <21975671.1075855665520.JavaMail.evans@thyme>   \n",
       "2           2   <7452188.1075855667684.JavaMail.evans@thyme>   \n",
       "3           3  <23790115.1075855667708.JavaMail.evans@thyme>   \n",
       "4           4   <5860470.1075855667730.JavaMail.evans@thyme>   \n",
       "\n",
       "                        Date                                     From  \\\n",
       "0  2000-12-13 18:41:00-08:00  1.11913372.-2@multexinvestornetwork.com   \n",
       "1  2000-12-13 08:35:00-08:00              messenger@ecm.bloomberg.com   \n",
       "2  2000-10-09 07:16:00-07:00                  phillip.allen@enron.com   \n",
       "3  2000-10-09 07:00:00-07:00                  phillip.allen@enron.com   \n",
       "4  2000-10-05 06:26:00-07:00                  phillip.allen@enron.com   \n",
       "\n",
       "                         To  \\\n",
       "0          pallen@enron.com   \n",
       "1                       NaN   \n",
       "2     keith.holst@enron.com   \n",
       "3     keith.holst@enron.com   \n",
       "4  david.delainey@enron.com   \n",
       "\n",
       "                                             Subject  \\\n",
       "0  December 14, 2000 - Bear Stearns' predictions ...   \n",
       "1                       Bloomberg Power Lines Report   \n",
       "2        Consolidated positions: Issues & To Do list   \n",
       "3        Consolidated positions: Issues & To Do list   \n",
       "4                                                NaN   \n",
       "\n",
       "                                                Path   Origin    FileName  \\\n",
       "0  \\Phillip_Allen_Dec2000\\Notes Folders\\All docum...  Allen-P  pallen.nsf   \n",
       "1  \\Phillip_Allen_Dec2000\\Notes Folders\\All docum...  Allen-P  pallen.nsf   \n",
       "2  \\Phillip_Allen_Dec2000\\Notes Folders\\All docum...  Allen-P  pallen.nsf   \n",
       "3  \\Phillip_Allen_Dec2000\\Notes Folders\\All docum...  Allen-P  pallen.nsf   \n",
       "4  \\Phillip_Allen_Dec2000\\Notes Folders\\All docum...  Allen-P  pallen.nsf   \n",
       "\n",
       "                                             Content  Content Length  Reply  \n",
       "0  In today's Daily Update you'll find free repor...            8486      0  \n",
       "1  Here is today's copy of Bloomberg Power Lines....           16252      0  \n",
       "2  ---------------------- Forwarded by Phillip K ...            5688      0  \n",
       "3  ---------------------- Forwarded by Phillip K ...            5688      0  \n",
       "4  Dave, \\n\\n Here are the names of the west desk...             120      0  "
      ]
     },
     "execution_count": 2,
     "metadata": {},
     "output_type": "execute_result"
    }
   ],
   "source": [
    "import os\n",
    "emails = pd.read_csv('enron_emailsdf.csv')\n",
    "print(emails.shape)\n",
    "emails.head()"
   ]
  },
  {
   "cell_type": "code",
   "execution_count": 3,
   "id": "cc4d4b51",
   "metadata": {},
   "outputs": [
    {
     "name": "stderr",
     "output_type": "stream",
     "text": [
      "/var/folders/tv/54gx2c8n5xlc8cb4nmj9lywh0000gn/T/ipykernel_57425/3061489786.py:7: FutureWarning: The frame.append method is deprecated and will be removed from pandas in a future version. Use pandas.concat instead.\n",
      "  out.append(emails)\n",
      "/var/folders/tv/54gx2c8n5xlc8cb4nmj9lywh0000gn/T/ipykernel_57425/3061489786.py:7: FutureWarning: The frame.append method is deprecated and will be removed from pandas in a future version. Use pandas.concat instead.\n",
      "  out.append(emails)\n",
      "/var/folders/tv/54gx2c8n5xlc8cb4nmj9lywh0000gn/T/ipykernel_57425/3061489786.py:7: FutureWarning: The frame.append method is deprecated and will be removed from pandas in a future version. Use pandas.concat instead.\n",
      "  out.append(emails)\n",
      "/var/folders/tv/54gx2c8n5xlc8cb4nmj9lywh0000gn/T/ipykernel_57425/3061489786.py:7: FutureWarning: The frame.append method is deprecated and will be removed from pandas in a future version. Use pandas.concat instead.\n",
      "  out.append(emails)\n",
      "/var/folders/tv/54gx2c8n5xlc8cb4nmj9lywh0000gn/T/ipykernel_57425/3061489786.py:7: FutureWarning: The frame.append method is deprecated and will be removed from pandas in a future version. Use pandas.concat instead.\n",
      "  out.append(emails)\n",
      "/var/folders/tv/54gx2c8n5xlc8cb4nmj9lywh0000gn/T/ipykernel_57425/3061489786.py:7: FutureWarning: The frame.append method is deprecated and will be removed from pandas in a future version. Use pandas.concat instead.\n",
      "  out.append(emails)\n",
      "/var/folders/tv/54gx2c8n5xlc8cb4nmj9lywh0000gn/T/ipykernel_57425/3061489786.py:7: FutureWarning: The frame.append method is deprecated and will be removed from pandas in a future version. Use pandas.concat instead.\n",
      "  out.append(emails)\n",
      "/var/folders/tv/54gx2c8n5xlc8cb4nmj9lywh0000gn/T/ipykernel_57425/3061489786.py:7: FutureWarning: The frame.append method is deprecated and will be removed from pandas in a future version. Use pandas.concat instead.\n",
      "  out.append(emails)\n",
      "/var/folders/tv/54gx2c8n5xlc8cb4nmj9lywh0000gn/T/ipykernel_57425/3061489786.py:7: FutureWarning: The frame.append method is deprecated and will be removed from pandas in a future version. Use pandas.concat instead.\n",
      "  out.append(emails)\n",
      "/var/folders/tv/54gx2c8n5xlc8cb4nmj9lywh0000gn/T/ipykernel_57425/3061489786.py:7: FutureWarning: The frame.append method is deprecated and will be removed from pandas in a future version. Use pandas.concat instead.\n",
      "  out.append(emails)\n",
      "/var/folders/tv/54gx2c8n5xlc8cb4nmj9lywh0000gn/T/ipykernel_57425/3061489786.py:7: FutureWarning: The frame.append method is deprecated and will be removed from pandas in a future version. Use pandas.concat instead.\n",
      "  out.append(emails)\n",
      "/var/folders/tv/54gx2c8n5xlc8cb4nmj9lywh0000gn/T/ipykernel_57425/3061489786.py:7: FutureWarning: The frame.append method is deprecated and will be removed from pandas in a future version. Use pandas.concat instead.\n",
      "  out.append(emails)\n",
      "/var/folders/tv/54gx2c8n5xlc8cb4nmj9lywh0000gn/T/ipykernel_57425/3061489786.py:7: FutureWarning: The frame.append method is deprecated and will be removed from pandas in a future version. Use pandas.concat instead.\n",
      "  out.append(emails)\n",
      "/var/folders/tv/54gx2c8n5xlc8cb4nmj9lywh0000gn/T/ipykernel_57425/3061489786.py:7: FutureWarning: The frame.append method is deprecated and will be removed from pandas in a future version. Use pandas.concat instead.\n",
      "  out.append(emails)\n",
      "/var/folders/tv/54gx2c8n5xlc8cb4nmj9lywh0000gn/T/ipykernel_57425/3061489786.py:7: FutureWarning: The frame.append method is deprecated and will be removed from pandas in a future version. Use pandas.concat instead.\n",
      "  out.append(emails)\n",
      "/var/folders/tv/54gx2c8n5xlc8cb4nmj9lywh0000gn/T/ipykernel_57425/3061489786.py:7: FutureWarning: The frame.append method is deprecated and will be removed from pandas in a future version. Use pandas.concat instead.\n",
      "  out.append(emails)\n",
      "/var/folders/tv/54gx2c8n5xlc8cb4nmj9lywh0000gn/T/ipykernel_57425/3061489786.py:7: FutureWarning: The frame.append method is deprecated and will be removed from pandas in a future version. Use pandas.concat instead.\n",
      "  out.append(emails)\n",
      "/var/folders/tv/54gx2c8n5xlc8cb4nmj9lywh0000gn/T/ipykernel_57425/3061489786.py:7: FutureWarning: The frame.append method is deprecated and will be removed from pandas in a future version. Use pandas.concat instead.\n",
      "  out.append(emails)\n",
      "/var/folders/tv/54gx2c8n5xlc8cb4nmj9lywh0000gn/T/ipykernel_57425/3061489786.py:7: FutureWarning: The frame.append method is deprecated and will be removed from pandas in a future version. Use pandas.concat instead.\n",
      "  out.append(emails)\n",
      "/var/folders/tv/54gx2c8n5xlc8cb4nmj9lywh0000gn/T/ipykernel_57425/3061489786.py:7: FutureWarning: The frame.append method is deprecated and will be removed from pandas in a future version. Use pandas.concat instead.\n",
      "  out.append(emails)\n",
      "/var/folders/tv/54gx2c8n5xlc8cb4nmj9lywh0000gn/T/ipykernel_57425/3061489786.py:7: FutureWarning: The frame.append method is deprecated and will be removed from pandas in a future version. Use pandas.concat instead.\n",
      "  out.append(emails)\n",
      "/var/folders/tv/54gx2c8n5xlc8cb4nmj9lywh0000gn/T/ipykernel_57425/3061489786.py:7: FutureWarning: The frame.append method is deprecated and will be removed from pandas in a future version. Use pandas.concat instead.\n",
      "  out.append(emails)\n"
     ]
    }
   ],
   "source": [
    "#make smaller chunks of emails\n",
    "out = None\n",
    "for emails in pd.read_csv('enron_emailsdf.csv', chunksize = 10000):\n",
    "    if out is None:\n",
    "        out = emails.copy()\n",
    "    else:\n",
    "        out.append(emails)\n",
    "    out.head()"
   ]
  },
  {
   "cell_type": "code",
   "execution_count": 4,
   "id": "672510b0",
   "metadata": {},
   "outputs": [
    {
     "name": "stdout",
     "output_type": "stream",
     "text": [
      "(10000, 12)\n"
     ]
    }
   ],
   "source": [
    "print(out.shape)"
   ]
  },
  {
   "cell_type": "code",
   "execution_count": 5,
   "id": "8096b9eb",
   "metadata": {},
   "outputs": [
    {
     "name": "stdout",
     "output_type": "stream",
     "text": [
      "<class 'pandas.core.frame.DataFrame'>\n",
      "RangeIndex: 10000 entries, 0 to 9999\n",
      "Data columns (total 12 columns):\n",
      " #   Column          Non-Null Count  Dtype \n",
      "---  ------          --------------  ----- \n",
      " 0   Unnamed: 0      10000 non-null  int64 \n",
      " 1   Message-ID      10000 non-null  object\n",
      " 2   Date            10000 non-null  object\n",
      " 3   From            10000 non-null  object\n",
      " 4   To              9643 non-null   object\n",
      " 5   Subject         9061 non-null   object\n",
      " 6   Path            9997 non-null   object\n",
      " 7   Origin          9997 non-null   object\n",
      " 8   FileName        9997 non-null   object\n",
      " 9   Content         10000 non-null  object\n",
      " 10  Content Length  10000 non-null  int64 \n",
      " 11  Reply           10000 non-null  int64 \n",
      "dtypes: int64(3), object(9)\n",
      "memory usage: 937.6+ KB\n",
      "None\n"
     ]
    }
   ],
   "source": [
    "print (out.info())"
   ]
  },
  {
   "cell_type": "code",
   "execution_count": null,
   "id": "5999c4c6",
   "metadata": {},
   "outputs": [],
   "source": [
    "# extract to, from and body from each email\n",
    "\n",
    "def email_parsing(raw_message):\n",
    "    lines = raw_message.split('\\n')\n",
    "    email = {}\n",
    "    message = ''\n",
    "    keys_to_extract = ['from', 'to']\n",
    "    for line in lines:\n",
    "        if ':' not in line:\n",
    "            message += line.strip()\n",
    "            email['body'] = message\n",
    "        else:\n",
    "            pairs = line.split(':')\n",
    "            key = pairs[0].lower()\n",
    "            val = pairs[1].strip()\n",
    "            if key in keys_to_extract:\n",
    "                email[key] = val\n",
    "    return email"
   ]
  },
  {
   "cell_type": "code",
   "execution_count": null,
   "id": "2559eeca",
   "metadata": {},
   "outputs": [],
   "source": [
    "# compile all extracted data into a single dictionary\n",
    "\n",
    "def emails_parsing(messages):\n",
    "    emails = [email_parsing(message) for message in messages]\n",
    "    return {\n",
    "        'body': result_append(emails, 'body'), \n",
    "        'to': result_append(emails, 'to'), \n",
    "        'from_': result_append(emails, 'from')\n",
    "    }"
   ]
  },
  {
   "cell_type": "code",
   "execution_count": null,
   "id": "5ed0d092",
   "metadata": {},
   "outputs": [],
   "source": [
    "# append all key results into single list\n",
    "def result_append(emails, key):\n",
    "    results = []\n",
    "    for email in emails:\n",
    "        if key not in email:\n",
    "            results.append('')\n",
    "        else:\n",
    "            results.append(email[key])\n",
    "    return results"
   ]
  },
  {
   "cell_type": "code",
   "execution_count": null,
   "id": "f440c993",
   "metadata": {},
   "outputs": [],
   "source": [
    "# create a new dataframe for extracted data\n",
    "extracted_data = pd.DataFrame(emails_parsing(out['Content']))"
   ]
  },
  {
   "cell_type": "code",
   "execution_count": null,
   "id": "07ce6531",
   "metadata": {},
   "outputs": [],
   "source": [
    "# check any NaN values\n",
    "extracted_data.isnull().any()"
   ]
  },
  {
   "cell_type": "code",
   "execution_count": null,
   "id": "c308bff3",
   "metadata": {},
   "outputs": [],
   "source": [
    "# drop empty values\n",
    "# extracted_data.drop(extracted_data.query(\"body == '' | to == '' | from_ == ''\").index, inplace = True)\n",
    "\n",
    "stopwords = ENGLISH_STOP_WORDS.union(['ect', 'hou', 'com', 'recipient'])\n",
    "vect = TfidfVectorizer(analyzer = 'word', stop_words = stopwords, max_df = 0.5, min_df = 2)"
   ]
  },
  {
   "cell_type": "code",
   "execution_count": null,
   "id": "6b4e3997",
   "metadata": {},
   "outputs": [],
   "source": [
    "X = vect.fit_transform(extracted_data.body)"
   ]
  },
  {
   "cell_type": "code",
   "execution_count": null,
   "id": "6a29878b",
   "metadata": {},
   "outputs": [],
   "source": [
    "X_dense = X.todense()\n",
    "coords = PCA(n_components=2).fit_transform(X_dense)\n",
    "plt.scatter(coords[:, 0], coords[:, 1], c = 'm')"
   ]
  },
  {
   "cell_type": "code",
   "execution_count": null,
   "id": "35657ac8",
   "metadata": {},
   "outputs": [],
   "source": [
    "features = vect.get_feature_names()"
   ]
  },
  {
   "cell_type": "code",
   "execution_count": null,
   "id": "943e0549",
   "metadata": {},
   "outputs": [],
   "source": [
    "def top_msg_features(X, features, row_id, top_words = 25):\n",
    "    row = np.squeeze(X[row_id].toarray())\n",
    "    return top_tfidf_features(row, features, top_words)"
   ]
  },
  {
   "cell_type": "code",
   "execution_count": null,
   "id": "96ca8125",
   "metadata": {},
   "outputs": [],
   "source": [
    "def top_tfidf_features(row, features, top_words = 20):\n",
    "\t# argsort produces the indices that orders the row by tf-idf value\n",
    "\t# reverse them (into descending order) and select the top words\n",
    "    top_ids = np.argsort(row)[::-1][:top_words]\n",
    "    top_features = [(features[i], row[i]) for i in top_ids]\n",
    "    df = pd.DataFrame(top_features, columns=['features', 'score'])\n",
    "    return df"
   ]
  },
  {
   "cell_type": "code",
   "execution_count": null,
   "id": "d2f3b620",
   "metadata": {},
   "outputs": [],
   "source": [
    "def top_msg_features(X, features, row_id, top_words = 25):\n",
    "    row = np.squeeze(X[row_id].toarray())\n",
    "    return top_tfidf_features(row, features, top_words)"
   ]
  },
  {
   "cell_type": "code",
   "execution_count": null,
   "id": "72231880",
   "metadata": {},
   "outputs": [],
   "source": []
  },
  {
   "cell_type": "markdown",
   "id": "362f63f9",
   "metadata": {},
   "source": [
    "def top_terms(X, features, grp_ids = None, min_tfidf = 0.1, top_words = 25):\n",
    "    if grp_ids:\n",
    "        msgs = X[grp_ids].toarray()\n",
    "    else:\n",
    "        msgs = X.toarray()\n",
    "    msgs[msgs < min_tfidf] = 0\n",
    "    \n",
    "    # calculate the mean of each column across the selected rows (which results in a single row of tf-idf values)\n",
    "    tfidf_means = np.mean(msgs, axis = 0)\n",
    "    \n",
    "    # then pass on to the previous func for picking out the top n words\n",
    "    return top_tfidf_features(tfidf_means, features, top_words)"
   ]
  },
  {
   "cell_type": "markdown",
   "id": "5aabddde",
   "metadata": {},
   "source": [
    "## K-means"
   ]
  },
  {
   "cell_type": "code",
   "execution_count": null,
   "id": "919f7046",
   "metadata": {},
   "outputs": [],
   "source": [
    "# create classifier with 4 clusters and 100 iterations\n",
    "clf = KMeans(n_clusters = 4, max_iter = 100, init = 'k-means++', n_init = 1)\n",
    "labels = clf.fit_predict(X)"
   ]
  },
  {
   "cell_type": "code",
   "execution_count": null,
   "id": "4e930f8b",
   "metadata": {},
   "outputs": [],
   "source": [
    "X_dense = X.todense()\n",
    "pca = PCA(n_components = 2).fit(X_dense)\n",
    "coords = pca.transform(X_dense)"
   ]
  },
  {
   "cell_type": "code",
   "execution_count": null,
   "id": "fb7f8269",
   "metadata": {},
   "outputs": [],
   "source": [
    "label_colours = ['b', 'm', 'r']\n",
    "colours = [label_colours[i] for i in labels]\n",
    "plt.scatter(coords[:, 0], coords[:, 1], c = colours)"
   ]
  },
  {
   "cell_type": "code",
   "execution_count": null,
   "id": "dde19f5e",
   "metadata": {},
   "outputs": [],
   "source": [
    "def top_words_per_cluster(X, y, features, min_tfidf = 0.1, top_words = 25):\n",
    "    dfs = []\n",
    "\n",
    "    labels = np.unique(y)\n",
    "    for label in labels:\n",
    "        ids = np.where(y == label) \n",
    "        features_df = top_terms(X, features, ids, min_tfidf = min_tfidf, top_words = top_words)\n",
    "        features_df.label = label\n",
    "        dfs.append(features_df)\n",
    "    return dfs"
   ]
  },
  {
   "cell_type": "code",
   "execution_count": null,
   "id": "2c1927b4",
   "metadata": {},
   "outputs": [],
   "source": [
    "def plot_top_words(dfs):\n",
    "    fig = plt.figure(figsize = (11, 8), facecolor = \"w\")\n",
    "    x = np.arange(len(dfs[0]))\n",
    "    for i, df in enumerate(dfs):\n",
    "        ax = fig.add_subplot(1, len(dfs), i+1)\n",
    "        ax.spines[\"top\"].set_visible(False)\n",
    "        ax.spines[\"right\"].set_visible(False)\n",
    "        ax.set_frame_on(False)\n",
    "        ax.get_xaxis().tick_bottom()\n",
    "        ax.get_yaxis().tick_left()\n",
    "        ax.set_xlabel(\"Tf-Idf Score\", labelpad = 16, fontsize = 13)\n",
    "        ax.set_title(\"cluster = \" + str(df.label), fontsize = 15)\n",
    "        ax.ticklabel_format(axis = 'x', style = 'sci', scilimits = (-2, 2))\n",
    "        ax.barh(x, df.score, align = 'center', color = '#7530FF')\n",
    "        ax.set_yticks(x)\n",
    "        ax.set_ylim([-1, x[-1] + 1])\n",
    "        yticks = ax.set_yticklabels(df.features)\n",
    "        plt.subplots_adjust(bottom = 0.09, right = 0.97, left = 0.15, top = 0.95, wspace = 0.52)\n",
    "    plt.show()"
   ]
  },
  {
   "cell_type": "code",
   "execution_count": null,
   "id": "dcae9b4a",
   "metadata": {},
   "outputs": [],
   "source": [
    "tops = top_words_per_cluster(X, labels, features, 0.1, 25)"
   ]
  },
  {
   "cell_type": "code",
   "execution_count": null,
   "id": "db74225a",
   "metadata": {},
   "outputs": [],
   "source": [
    "plot_top_words(tops)"
   ]
  },
  {
   "cell_type": "code",
   "execution_count": null,
   "id": "b76d4503",
   "metadata": {},
   "outputs": [],
   "source": []
  }
 ],
 "metadata": {
  "kernelspec": {
   "display_name": "Python 3 (ipykernel)",
   "language": "python",
   "name": "python3"
  },
  "language_info": {
   "codemirror_mode": {
    "name": "ipython",
    "version": 3
   },
   "file_extension": ".py",
   "mimetype": "text/x-python",
   "name": "python",
   "nbconvert_exporter": "python",
   "pygments_lexer": "ipython3",
   "version": "3.8.13"
  }
 },
 "nbformat": 4,
 "nbformat_minor": 5
}
